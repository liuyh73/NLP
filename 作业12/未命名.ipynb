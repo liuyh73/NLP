{
 "cells": [
  {
   "cell_type": "code",
   "execution_count": 1,
   "metadata": {},
   "outputs": [],
   "source": [
    "import numpy as np\n",
    "import pandas as pd\n",
    "import re\n",
    "from nltk.corpus import stopwords\n",
    "from bs4 import BeautifulSoup\n",
    "from sklearn.feature_extraction.text import CountVectorizer\n",
    "from sklearn.ensemble import RandomForestClassifier"
   ]
  },
  {
   "cell_type": "code",
   "execution_count": 30,
   "metadata": {
    "scrolled": true
   },
   "outputs": [
    {
     "data": {
      "text/plain": [
       "\"Gas by my house hit $3.39!!!! I'm going to Chapel Hill on Sat. :)\""
      ]
     },
     "execution_count": 30,
     "metadata": {},
     "output_type": "execute_result"
    }
   ],
   "source": [
    "trainData = pd.read_csv(\"sentence-sentiment-analysis/train.tsv\", header=0, delimiter=\"\\t\", quoting=3)\n",
    "testData = pd.read_csv(\"sentence-sentiment-analysis/test.tsv\", header=0, delimiter=\"\\t\", quoting=3)\n",
    "trainData.columns.values\n",
    "# trainData.shape\n",
    "# trainData[\"text\"]\n",
    "trainData[\"text\"][0]"
   ]
  },
  {
   "cell_type": "code",
   "execution_count": 16,
   "metadata": {},
   "outputs": [],
   "source": [
    "# data cleaning and text preprocessing\n",
    "def review_to_words(raw_review):\n",
    "    review_text = BeautifulSoup(raw_review).get_text()\n",
    "    letters_only = re.sub(\"[^a-zA-Z]\", \" \", review_text)\n",
    "    words = letters_only.lower().split()\n",
    "    stops = set(stopwords.words(\"english\"))\n",
    "    meaningful_words = [w for w in words if not w in stops]\n",
    "    return(\" \".join(meaningful_words))"
   ]
  },
  {
   "cell_type": "code",
   "execution_count": 31,
   "metadata": {},
   "outputs": [],
   "source": [
    "vectorizer = CountVectorizer(analyzer=\"word\", tokenizer=None, preprocessor=None, stop_words=None, max_features=5000)\n",
    "def train():\n",
    "    train_num_reviews = len(trainData[\"text\"])\n",
    "    clean_train_reviews = []\n",
    "    for i in range(0, train_num_reviews):\n",
    "        if((i+1) % 1000 == 0):\n",
    "            print(\"Review %d of %d\\n\" % (i+1, train_num_reviews))\n",
    "        clean_review = review_to_words(trainData[\"text\"][i])\n",
    "        clean_train_reviews.append(clean_review)\n",
    "    train_data_features = vectorizer.fit_transform(clean_train_reviews)\n",
    "    train_data_features = train_data_features.toarray()\n",
    "    forest = RandomForestClassifier(n_estimators=100)\n",
    "    forest = forest.fit(train_data_features, trainData[\"polarity\"])\n",
    "    return forest\n"
   ]
  },
  {
   "cell_type": "code",
   "execution_count": 36,
   "metadata": {},
   "outputs": [],
   "source": [
    "def test(forest):\n",
    "    num_reviews = len(testData[\"text\"])\n",
    "    clean_test_reviews = []\n",
    "\n",
    "    for i in range(0, num_reviews):\n",
    "        if((i+1) % 1000 == 0):\n",
    "            print(\"Review %d of %d\\n\" % (i+1, num_reviews))\n",
    "        clean_review = review_to_words(testData[\"text\"][i])\n",
    "        clean_test_reviews.append(clean_review)\n",
    "\n",
    "    test_data_features = vectorizer.transform(clean_test_reviews)\n",
    "    test_data_features = test_data_features.toarray()\n",
    "    result = forest.predict(test_data_features)\n",
    "    output = pd.DataFrame(data={\"id\": testData[\"line_num\"], \"polarity\": result})\n",
    "    output.to_csv(\"16340157_lyh.tsv\", index=False, quoting=3)\n"
   ]
  },
  {
   "cell_type": "code",
   "execution_count": 33,
   "metadata": {},
   "outputs": [
    {
     "name": "stdout",
     "output_type": "stream",
     "text": [
      "Review 1000 of 10026\n",
      "\n",
      "Review 2000 of 10026\n",
      "\n",
      "Review 3000 of 10026\n",
      "\n",
      "Review 4000 of 10026\n",
      "\n",
      "Review 5000 of 10026\n",
      "\n",
      "Review 6000 of 10026\n",
      "\n",
      "Review 7000 of 10026\n",
      "\n",
      "Review 8000 of 10026\n",
      "\n",
      "Review 9000 of 10026\n",
      "\n",
      "Review 10000 of 10026\n",
      "\n"
     ]
    }
   ],
   "source": [
    "forest = train()"
   ]
  },
  {
   "cell_type": "code",
   "execution_count": 37,
   "metadata": {},
   "outputs": [
    {
     "name": "stdout",
     "output_type": "stream",
     "text": [
      "Review 1000 of 4850\n",
      "\n",
      "Review 2000 of 4850\n",
      "\n",
      "Review 3000 of 4850\n",
      "\n",
      "Review 4000 of 4850\n",
      "\n"
     ]
    }
   ],
   "source": [
    "test(forest)"
   ]
  }
 ],
 "metadata": {
  "kernelspec": {
   "display_name": "Python 3",
   "language": "python",
   "name": "python3"
  },
  "language_info": {
   "codemirror_mode": {
    "name": "ipython",
    "version": 3
   },
   "file_extension": ".py",
   "mimetype": "text/x-python",
   "name": "python",
   "nbconvert_exporter": "python",
   "pygments_lexer": "ipython3",
   "version": "3.6.8"
  }
 },
 "nbformat": 4,
 "nbformat_minor": 2
}
